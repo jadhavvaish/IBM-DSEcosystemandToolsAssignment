{
 "cells": [
  {
   "cell_type": "markdown",
   "id": "74f1dbf3",
   "metadata": {},
   "source": [
    "# Data Science Ecosystem and Tools "
   ]
  },
  {
   "cell_type": "markdown",
   "id": "42ae300b",
   "metadata": {},
   "source": [
    "This Juypter Notebook, summarizes the Data Science Ecosystem and Tools used."
   ]
  },
  {
   "cell_type": "markdown",
   "id": "29fb7cbd",
   "metadata": {},
   "source": [
    "**Objectives:**\n",
    "- Summarize popular languages used by Data Scientist.\n",
    "- Encapsulate the important Libraries and tools used by Data Scientists.\n",
    "- Demonstartes some solving Arithmetic Expressions using Python."
   ]
  },
  {
   "cell_type": "markdown",
   "id": "81673672",
   "metadata": {},
   "source": [
    "#### Some of the popular languages used by Data Scientist are:\n",
    "1. Python\n",
    "2. R \n",
    "3. SQL\n",
    "4. Scala\n",
    "5. Java"
   ]
  },
  {
   "cell_type": "markdown",
   "id": "a8bac862",
   "metadata": {},
   "source": [
    "#### Some of the commonly used libraries used by Data Scientists include:\n",
    "- Python Libraries:\n",
    "1. Pandas\n",
    "2. Numpy\n",
    "3. Scikit-learn\n",
    "4. Seaborn\n",
    "5. Matplotlib\n",
    "6. Keras\n",
    "7. Tensorflow \n",
    "\n",
    "- R Libraries:\n",
    "1. ggplot2\n",
    "2. dplyr\n",
    "3. stringr\n",
    "4. caret\n"
   ]
  },
  {
   "cell_type": "markdown",
   "id": "a6869a78",
   "metadata": {},
   "source": [
    "#### Table containing Data Science Tools:\n",
    "|Tools|Definition|\n",
    "|-----|----------|\n",
    "|Rstudio|Unifies programming, execution, debugging, remote dataaccess, data exploration, and visualization into onetool.|\n",
    "|Apache Spark|A general-purpose cluster-computing framework allowingyou to process data using compute clusters.|\n",
    "|Watson Studio|A fully integrated development environment for datascientists|\n",
    "\n"
   ]
  },
  {
   "cell_type": "markdown",
   "id": "34585dd8",
   "metadata": {},
   "source": [
    "### Below are a few examples of evaluating arithmetic expressions in Python:"
   ]
  },
  {
   "cell_type": "code",
   "execution_count": 1,
   "id": "5074b83f",
   "metadata": {},
   "outputs": [
    {
     "data": {
      "text/plain": [
       "17"
      ]
     },
     "execution_count": 1,
     "metadata": {},
     "output_type": "execute_result"
    }
   ],
   "source": [
    "#This a simple arithmetic expression to mutiply then add integers\n",
    "(3*4)+5"
   ]
  },
  {
   "cell_type": "code",
   "execution_count": 2,
   "id": "f2d62440",
   "metadata": {},
   "outputs": [
    {
     "data": {
      "text/plain": [
       "17"
      ]
     },
     "execution_count": 2,
     "metadata": {},
     "output_type": "execute_result"
    }
   ],
   "source": [
    "#This a simple arithmetic expression to mutiply then add integers\n",
    "(3*4)+5"
   ]
  },
  {
   "cell_type": "code",
   "execution_count": 4,
   "id": "1a7a6037",
   "metadata": {},
   "outputs": [
    {
     "name": "stdout",
     "output_type": "stream",
     "text": [
      "3.3333333333333335\n"
     ]
    }
   ],
   "source": [
    "#This will convert 200 minutes to hours by diving by 60\n",
    "minutes = 200\n",
    "Hours = minutes / 60\n",
    "print(Hours)"
   ]
  },
  {
   "cell_type": "markdown",
   "id": "85ad3b84",
   "metadata": {},
   "source": [
    "### Author :\n",
    "Vaishnavi Jadhav "
   ]
  },
  {
   "cell_type": "code",
   "execution_count": null,
   "id": "fc7f94ba",
   "metadata": {},
   "outputs": [],
   "source": []
  }
 ],
 "metadata": {
  "kernelspec": {
   "display_name": "Python 3 (ipykernel)",
   "language": "python",
   "name": "python3"
  },
  "language_info": {
   "codemirror_mode": {
    "name": "ipython",
    "version": 3
   },
   "file_extension": ".py",
   "mimetype": "text/x-python",
   "name": "python",
   "nbconvert_exporter": "python",
   "pygments_lexer": "ipython3",
   "version": "3.11.5"
  }
 },
 "nbformat": 4,
 "nbformat_minor": 5
}
